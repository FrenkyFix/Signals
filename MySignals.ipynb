{
 "cells": [
  {
   "cell_type": "code",
   "execution_count": 1,
   "id": "edc8ddcb-3272-4c13-8ee6-90cc23985434",
   "metadata": {},
   "outputs": [],
   "source": [
    "duration = 2  \n",
    "amplitude = 0.5  \n",
    "frequency = 600  \n",
    "fs = 80000 "
   ]
  },
  {
   "cell_type": "code",
   "execution_count": 2,
   "id": "49d163db-608d-4f1d-8757-ec1c9723425d",
   "metadata": {},
   "outputs": [],
   "source": [
    "import numpy as np\n",
    "\n",
    "timeSamples1 = np.arange(np.ceil(1 * fs)) / fs\n",
    "timeSamples2 = np.arange(np.ceil(0.5 * fs)) / fs\n",
    "timeSamples3 = np.arange(np.ceil(0.25 * fs)) / fs"
   ]
  },
  {
   "cell_type": "code",
   "execution_count": 3,
   "id": "bacb54f1-a690-4dd1-a7f3-bcd215cdc861",
   "metadata": {},
   "outputs": [],
   "source": [
    "import sounddevice as sd\n",
    "B = amplitude * np.sin(2 * np.pi * 493.88 * timeSamples2)\n",
    "E = amplitude * np.sin(2 * np.pi * 659.26 * timeSamples2)\n",
    "Fd = amplitude * np.sin(2 * np.pi * 739.98 * timeSamples2)\n",
    "G = amplitude * np.sin(2 * np.pi * 784 * timeSamples3)\n",
    "B2 = amplitude * np.sin(2 * np.pi * 987.75 * timeSamples2)\n",
    "A = amplitude * np.sin(2 * np.pi * 880 * timeSamples1)\n",
    "Dd = amplitude * np.sin(2 * np.pi * 622.26 * timeSamples1)\n",
    "F = amplitude * np.sin(2 * np.pi * 698.46 * timeSamples2)\n",
    "sd.play(B, fs)\n",
    "sd.wait()\n",
    "sd.play(E, fs)\n",
    "sd.wait()\n",
    "sd.play(G, fs)\n",
    "sd.wait()\n",
    "sd.play(Fd, fs)\n",
    "sd.wait()\n",
    "sd.play(E, fs)\n",
    "sd.wait()\n",
    "sd.play(B2, fs)\n",
    "sd.wait()\n",
    "sd.play(A, fs)\n",
    "sd.wait()\n",
    "sd.play(Fd, fs)\n",
    "sd.wait()\n",
    "sd.play(E, fs)\n",
    "sd.wait()\n",
    "sd.play(G, fs)\n",
    "sd.wait()\n",
    "sd.play(Fd, fs)\n",
    "sd.wait()\n",
    "sd.play(Dd, fs)\n",
    "sd.wait()\n",
    "sd.play(F, fs)\n",
    "sd.wait()\n",
    "sd.play(B, fs)"
   ]
  },
  {
   "cell_type": "code",
   "execution_count": null,
   "id": "b29edc86-bac8-4406-85c9-1282937901e5",
   "metadata": {},
   "outputs": [],
   "source": []
  },
  {
   "cell_type": "code",
   "execution_count": null,
   "id": "f1e38ab8-7b2a-4bba-8fe4-7b03bef4c5a2",
   "metadata": {},
   "outputs": [],
   "source": [
    "\n"
   ]
  },
  {
   "cell_type": "code",
   "execution_count": null,
   "id": "c555e778-a9c8-4ca6-b64d-c0b3259301b8",
   "metadata": {},
   "outputs": [],
   "source": []
  },
  {
   "cell_type": "code",
   "execution_count": null,
   "id": "c2c63f26-6704-47c6-8a4c-a3e3bda2c61e",
   "metadata": {},
   "outputs": [],
   "source": []
  },
  {
   "cell_type": "code",
   "execution_count": null,
   "id": "760244c1-3652-4100-9353-14639ac11197",
   "metadata": {},
   "outputs": [],
   "source": []
  },
  {
   "cell_type": "code",
   "execution_count": null,
   "id": "e15940b6-559b-4b21-8ac2-ec64bc3b6cbf",
   "metadata": {},
   "outputs": [],
   "source": []
  },
  {
   "cell_type": "code",
   "execution_count": null,
   "id": "d28cde65-6da5-4636-b54f-a12c0dceebbc",
   "metadata": {},
   "outputs": [],
   "source": []
  },
  {
   "cell_type": "code",
   "execution_count": null,
   "id": "954c95ec-3f78-4796-bc58-a2ca1b9b3cf0",
   "metadata": {},
   "outputs": [],
   "source": []
  },
  {
   "cell_type": "code",
   "execution_count": null,
   "id": "3e84fceb-1180-40a8-8f06-7a1707bafa9b",
   "metadata": {},
   "outputs": [],
   "source": []
  },
  {
   "cell_type": "code",
   "execution_count": null,
   "id": "6831f09f-b9da-4e03-bd28-60240ad4e6c1",
   "metadata": {},
   "outputs": [],
   "source": []
  },
  {
   "cell_type": "code",
   "execution_count": null,
   "id": "5c19cfb4-74f8-42a3-bbf2-c9bee09c4229",
   "metadata": {},
   "outputs": [],
   "source": []
  },
  {
   "cell_type": "code",
   "execution_count": null,
   "id": "52d5dd4e-5660-4911-9df9-03558bd3a6a8",
   "metadata": {},
   "outputs": [],
   "source": []
  },
  {
   "cell_type": "code",
   "execution_count": null,
   "id": "3c212e23-f0a4-4841-ba1f-1ea9d8e00a77",
   "metadata": {},
   "outputs": [],
   "source": []
  },
  {
   "cell_type": "code",
   "execution_count": null,
   "id": "91e02855-1195-4ae5-877d-3db1b172d0c8",
   "metadata": {},
   "outputs": [],
   "source": []
  },
  {
   "cell_type": "code",
   "execution_count": null,
   "id": "e4ec401e-63a1-4e94-b500-3d573da5ade5",
   "metadata": {},
   "outputs": [],
   "source": []
  }
 ],
 "metadata": {
  "kernelspec": {
   "display_name": "Python 3 (ipykernel)",
   "language": "python",
   "name": "python3"
  },
  "language_info": {
   "codemirror_mode": {
    "name": "ipython",
    "version": 3
   },
   "file_extension": ".py",
   "mimetype": "text/x-python",
   "name": "python",
   "nbconvert_exporter": "python",
   "pygments_lexer": "ipython3",
   "version": "3.9.7"
  }
 },
 "nbformat": 4,
 "nbformat_minor": 5
}
